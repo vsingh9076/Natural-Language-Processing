{
 "cells": [
  {
   "cell_type": "markdown",
   "metadata": {},
   "source": [
    "### Task 1: Split the paragraph into sentences."
   ]
  },
  {
   "cell_type": "code",
   "execution_count": 1,
   "metadata": {},
   "outputs": [
    {
     "name": "stdout",
     "output_type": "stream",
     "text": [
      "['For the third time this monsoon, pounding rains paralysed Mumbai on Wednesday with total disruption in road and rail \\n         traffic, though flights were not hit severely.', \"Mumbai turned into an extension of the sea as unprecedented rains \\n         deluged the country's financial capital, delaying flights, jamming traffic, flooding homes and having rescue teams out \\n         on the roads since morning.\", 'In several places, the local trains grinded to a halt, and long distance trains were \\n         cancelled.', 'In the evening office hours, the waterlogging pushed people to look for the nearest shelter, abandoning \\n         thoughts of reaching home.', 'The met office declared a red alert for the next 24 hours, indicating that the situation \\n         might worsen.', 'Schools and junior colleges in Mumbai, Thane and Konkan will remain shut on Thursday as a precautionary \\n         measure.']\n"
     ]
    }
   ],
   "source": [
    "from nltk.tokenize import sent_tokenize\n",
    "\n",
    "doc = \"\"\"For the third time this monsoon, pounding rains paralysed Mumbai on Wednesday with total disruption in road and rail \n",
    "         traffic, though flights were not hit severely. Mumbai turned into an extension of the sea as unprecedented rains \n",
    "         deluged the country's financial capital, delaying flights, jamming traffic, flooding homes and having rescue teams out \n",
    "         on the roads since morning. In several places, the local trains grinded to a halt, and long distance trains were \n",
    "         cancelled. In the evening office hours, the waterlogging pushed people to look for the nearest shelter, abandoning \n",
    "         thoughts of reaching home. The met office declared a red alert for the next 24 hours, indicating that the situation \n",
    "         might worsen. Schools and junior colleges in Mumbai, Thane and Konkan will remain shut on Thursday as a precautionary \n",
    "         measure.\"\"\"\n",
    "sentences = sent_tokenize(doc)\n",
    "print(sentences)"
   ]
  },
  {
   "cell_type": "markdown",
   "metadata": {},
   "source": [
    "### Task 2: To make a list of words from above paragraph other than stop words."
   ]
  },
  {
   "cell_type": "code",
   "execution_count": 2,
   "metadata": {},
   "outputs": [
    {
     "name": "stdout",
     "output_type": "stream",
     "text": [
      "['For', 'the', 'third', 'time', 'this', 'monsoon', ',', 'pounding', 'rains', 'paralysed', 'Mumbai', 'on', 'Wednesday', 'with', 'total', 'disruption', 'in', 'road', 'and', 'rail', 'traffic', ',', 'though', 'flights', 'were', 'not', 'hit', 'severely', '.', 'Mumbai', 'turned', 'into', 'an', 'extension', 'of', 'the', 'sea', 'as', 'unprecedented', 'rains', 'deluged', 'the', 'country', \"'s\", 'financial', 'capital', ',', 'delaying', 'flights', ',', 'jamming', 'traffic', ',', 'flooding', 'homes', 'and', 'having', 'rescue', 'teams', 'out', 'on', 'the', 'roads', 'since', 'morning', '.', 'In', 'several', 'places', ',', 'the', 'local', 'trains', 'grinded', 'to', 'a', 'halt', ',', 'and', 'long', 'distance', 'trains', 'were', 'cancelled', '.', 'In', 'the', 'evening', 'office', 'hours', ',', 'the', 'waterlogging', 'pushed', 'people', 'to', 'look', 'for', 'the', 'nearest', 'shelter', ',', 'abandoning', 'thoughts', 'of', 'reaching', 'home', '.', 'The', 'met', 'office', 'declared', 'a', 'red', 'alert', 'for', 'the', 'next', '24', 'hours', ',', 'indicating', 'that', 'the', 'situation', 'might', 'worsen', '.', 'Schools', 'and', 'junior', 'colleges', 'in', 'Mumbai', ',', 'Thane', 'and', 'Konkan', 'will', 'remain', 'shut', 'on', 'Thursday', 'as', 'a', 'precautionary', 'measure', '.']\n"
     ]
    }
   ],
   "source": [
    "from nltk.tokenize import word_tokenize\n",
    "\n",
    "words = word_tokenize(doc)\n",
    "print(words)"
   ]
  },
  {
   "cell_type": "code",
   "execution_count": 3,
   "metadata": {},
   "outputs": [
    {
     "name": "stdout",
     "output_type": "stream",
     "text": [
      "{'t', 'myself', 'shan', 'were', 'had', 'to', 'have', 'which', 'doing', 'where', \"it's\", 'don', 'she', 'very', 'he', 'am', 'has', 'such', 'no', 'it', 'aren', \"mustn't\", 'couldn', 'me', 'be', 'up', 'i', \"won't\", 'at', \"wasn't\", 'other', 'him', 'do', 'only', 'why', 'having', 'about', 's', 'hasn', 'hadn', \"doesn't\", 'ma', \"that'll\", 'an', 'hers', \"you'd\", 'in', 'mustn', 'nor', 'once', 'after', 'same', \"needn't\", 'before', 'now', \"hasn't\", 'didn', 'during', \"aren't\", 'of', 'ourselves', 'd', 'both', 'mightn', 'shouldn', 'himself', 'them', 'own', 'their', 'our', 'while', 'from', 'itself', 'herself', 'those', 'his', \"haven't\", 'but', 'or', 'is', 'will', \"don't\", 'few', 'because', \"hadn't\", 'between', 'there', 'being', 're', 'wasn', 'then', 'through', 'most', 'should', \"couldn't\", 'doesn', 'what', 'into', \"you're\", 'are', 'who', 'more', 'they', 've', 'isn', 'does', 'down', 'here', 'a', 'wouldn', 'than', 'y', \"isn't\", \"should've\", 'this', 'just', \"didn't\", 'not', 'weren', 'above', 'any', 'against', 'we', 'if', \"mightn't\", 'when', 'been', 'was', 'her', 'that', 'for', 'haven', 'so', 'm', 'further', 'you', 'needn', 'again', 'off', 'yourself', \"you'll\", 'yours', \"she's\", 'its', 'out', 'can', 'did', 'all', 'each', 'theirs', 'as', 'your', 'and', 'by', \"shan't\", 'on', \"shouldn't\", 'ours', 'yourselves', \"wouldn't\", 'whom', 'themselves', 'my', \"weren't\", 'the', 'some', 'these', 'until', 'o', 'too', 'won', 'over', 'with', \"you've\", 'how', 'below', 'ain', 'under', 'll'}\n"
     ]
    }
   ],
   "source": [
    "from nltk.corpus import stopwords\n",
    "\n",
    "stop_words = set(stopwords.words('english'))\n",
    "print(stop_words)"
   ]
  },
  {
   "cell_type": "code",
   "execution_count": 4,
   "metadata": {},
   "outputs": [
    {
     "name": "stdout",
     "output_type": "stream",
     "text": [
      "['For', 'third', 'time', 'monsoon', ',', 'pounding', 'rains', 'paralysed', 'Mumbai', 'Wednesday', 'total', 'disruption', 'road', 'rail', 'traffic', ',', 'though', 'flights', 'hit', 'severely', '.', 'Mumbai', 'turned', 'extension', 'sea', 'unprecedented', 'rains', 'deluged', 'country', \"'s\", 'financial', 'capital', ',', 'delaying', 'flights', ',', 'jamming', 'traffic', ',', 'flooding', 'homes', 'rescue', 'teams', 'roads', 'since', 'morning', '.', 'In', 'several', 'places', ',', 'local', 'trains', 'grinded', 'halt', ',', 'long', 'distance', 'trains', 'cancelled', '.', 'In', 'evening', 'office', 'hours', ',', 'waterlogging', 'pushed', 'people', 'look', 'nearest', 'shelter', ',', 'abandoning', 'thoughts', 'reaching', 'home', '.', 'The', 'met', 'office', 'declared', 'red', 'alert', 'next', '24', 'hours', ',', 'indicating', 'situation', 'might', 'worsen', '.', 'Schools', 'junior', 'colleges', 'Mumbai', ',', 'Thane', 'Konkan', 'remain', 'shut', 'Thursday', 'precautionary', 'measure', '.']\n"
     ]
    }
   ],
   "source": [
    "filtered_words = []\n",
    "\n",
    "for wrd in words:\n",
    "    if wrd not in stop_words:\n",
    "        filtered_words.append(wrd)\n",
    "print(filtered_words)"
   ]
  },
  {
   "cell_type": "markdown",
   "metadata": {},
   "source": [
    "### Task 3: To make a list of all nouns in above paragraph."
   ]
  },
  {
   "cell_type": "code",
   "execution_count": 5,
   "metadata": {},
   "outputs": [
    {
     "name": "stdout",
     "output_type": "stream",
     "text": [
      "[('For', 'IN'), ('the', 'DT'), ('third', 'JJ'), ('time', 'NN'), ('this', 'DT'), ('monsoon', 'NN'), (',', ','), ('pounding', 'VBG'), ('rains', 'NNS'), ('paralysed', 'VBN'), ('Mumbai', 'NNP'), ('on', 'IN'), ('Wednesday', 'NNP'), ('with', 'IN'), ('total', 'JJ'), ('disruption', 'NN'), ('in', 'IN'), ('road', 'NN'), ('and', 'CC'), ('rail', 'NN'), ('traffic', 'NN'), (',', ','), ('though', 'IN'), ('flights', 'NNS'), ('were', 'VBD'), ('not', 'RB'), ('hit', 'VBN'), ('severely', 'RB'), ('.', '.'), ('Mumbai', 'NNP'), ('turned', 'VBD'), ('into', 'IN'), ('an', 'DT'), ('extension', 'NN'), ('of', 'IN'), ('the', 'DT'), ('sea', 'NN'), ('as', 'IN'), ('unprecedented', 'JJ'), ('rains', 'NNS'), ('deluged', 'VBD'), ('the', 'DT'), ('country', 'NN'), (\"'s\", 'POS'), ('financial', 'JJ'), ('capital', 'NN'), (',', ','), ('delaying', 'VBG'), ('flights', 'NNS'), (',', ','), ('jamming', 'VBG'), ('traffic', 'NN'), (',', ','), ('flooding', 'VBG'), ('homes', 'NNS'), ('and', 'CC'), ('having', 'VBG'), ('rescue', 'NN'), ('teams', 'NNS'), ('out', 'RP'), ('on', 'IN'), ('the', 'DT'), ('roads', 'NNS'), ('since', 'IN'), ('morning', 'NN'), ('.', '.'), ('In', 'IN'), ('several', 'JJ'), ('places', 'NNS'), (',', ','), ('the', 'DT'), ('local', 'JJ'), ('trains', 'NNS'), ('grinded', 'VBD'), ('to', 'TO'), ('a', 'DT'), ('halt', 'NN'), (',', ','), ('and', 'CC'), ('long', 'JJ'), ('distance', 'NN'), ('trains', 'NNS'), ('were', 'VBD'), ('cancelled', 'VBN'), ('.', '.'), ('In', 'IN'), ('the', 'DT'), ('evening', 'NN'), ('office', 'NN'), ('hours', 'NNS'), (',', ','), ('the', 'DT'), ('waterlogging', 'NN'), ('pushed', 'VBD'), ('people', 'NNS'), ('to', 'TO'), ('look', 'VB'), ('for', 'IN'), ('the', 'DT'), ('nearest', 'JJS'), ('shelter', 'NN'), (',', ','), ('abandoning', 'VBG'), ('thoughts', 'NNS'), ('of', 'IN'), ('reaching', 'VBG'), ('home', 'NN'), ('.', '.'), ('The', 'DT'), ('met', 'JJ'), ('office', 'NN'), ('declared', 'VBD'), ('a', 'DT'), ('red', 'JJ'), ('alert', 'NN'), ('for', 'IN'), ('the', 'DT'), ('next', 'JJ'), ('24', 'CD'), ('hours', 'NNS'), (',', ','), ('indicating', 'VBG'), ('that', 'IN'), ('the', 'DT'), ('situation', 'NN'), ('might', 'MD'), ('worsen', 'VB'), ('.', '.'), ('Schools', 'NNP'), ('and', 'CC'), ('junior', 'JJ'), ('colleges', 'NNS'), ('in', 'IN'), ('Mumbai', 'NNP'), (',', ','), ('Thane', 'NNP'), ('and', 'CC'), ('Konkan', 'NNP'), ('will', 'MD'), ('remain', 'VB'), ('shut', 'NNS'), ('on', 'IN'), ('Thursday', 'NNP'), ('as', 'IN'), ('a', 'DT'), ('precautionary', 'JJ'), ('measure', 'NN'), ('.', '.')]\n"
     ]
    }
   ],
   "source": [
    "import nltk\n",
    "from nltk.tag import pos_tag\n",
    "\n",
    "postags = nltk.pos_tag(words)\n",
    "print(postags)"
   ]
  },
  {
   "cell_type": "code",
   "execution_count": 6,
   "metadata": {},
   "outputs": [
    {
     "name": "stdout",
     "output_type": "stream",
     "text": [
      "['time', 'monsoon', 'rains', 'Mumbai', 'Wednesday', 'disruption', 'road', 'rail', 'traffic', 'flights', 'Mumbai', 'extension', 'sea', 'rains', 'country', 'capital', 'flights', 'traffic', 'homes', 'rescue', 'teams', 'roads', 'morning', 'places', 'trains', 'halt', 'distance', 'trains', 'evening', 'office', 'hours', 'waterlogging', 'people', 'shelter', 'thoughts', 'home', 'office', 'alert', 'hours', 'situation', 'Schools', 'colleges', 'Mumbai', 'Thane', 'Konkan', 'shut', 'Thursday', 'measure']\n"
     ]
    }
   ],
   "source": [
    "is_noun = lambda pos: pos[:2] == 'NN'\n",
    "nouns = [word for (word, pos) in postags if is_noun(pos)] \n",
    "print(nouns)"
   ]
  },
  {
   "cell_type": "markdown",
   "metadata": {},
   "source": [
    "###  Task 4: To transform all verbs in above paragraph to their respective base form."
   ]
  },
  {
   "cell_type": "code",
   "execution_count": 7,
   "metadata": {},
   "outputs": [
    {
     "name": "stdout",
     "output_type": "stream",
     "text": [
      "['pounding', 'paralysed', 'were', 'hit', 'turned', 'deluged', 'delaying', 'jamming', 'flooding', 'having', 'grinded', 'were', 'cancelled', 'pushed', 'look', 'abandoning', 'reaching', 'declared', 'indicating', 'worsen', 'remain']\n"
     ]
    }
   ],
   "source": [
    "from nltk.stem import WordNetLemmatizer\n",
    "\n",
    "wl = WordNetLemmatizer()\n",
    "\n",
    "is_verb = lambda pos: pos[:2] == 'VB'\n",
    "verbs = [word for (word, pos) in postags if is_verb(pos)] \n",
    "print(verbs)"
   ]
  },
  {
   "cell_type": "code",
   "execution_count": 8,
   "metadata": {},
   "outputs": [
    {
     "name": "stdout",
     "output_type": "stream",
     "text": [
      "['pound', 'paralyse', 'be', 'hit', 'turn', 'deluge', 'delay', 'jam', 'flood', 'have', 'grind', 'be', 'cancel', 'push', 'look', 'abandon', 'reach', 'declare', 'indicate', 'worsen', 'remain']\n"
     ]
    }
   ],
   "source": [
    "base_form = [wl.lemmatize(word, 'v') for word in verbs]\n",
    "print(base_form)"
   ]
  },
  {
   "cell_type": "code",
   "execution_count": null,
   "metadata": {},
   "outputs": [],
   "source": []
  }
 ],
 "metadata": {
  "kernelspec": {
   "display_name": "Python 3",
   "language": "python",
   "name": "python3"
  },
  "language_info": {
   "codemirror_mode": {
    "name": "ipython",
    "version": 3
   },
   "file_extension": ".py",
   "mimetype": "text/x-python",
   "name": "python",
   "nbconvert_exporter": "python",
   "pygments_lexer": "ipython3",
   "version": "3.7.4"
  }
 },
 "nbformat": 4,
 "nbformat_minor": 2
}
