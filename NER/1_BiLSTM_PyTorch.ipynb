{
  "nbformat": 4,
  "nbformat_minor": 0,
  "metadata": {
    "colab": {
      "provenance": [],
      "include_colab_link": true
    },
    "kernelspec": {
      "name": "python3",
      "display_name": "Python 3"
    }
  },
  "cells": [
    {
      "cell_type": "markdown",
      "metadata": {
        "id": "view-in-github",
        "colab_type": "text"
      },
      "source": [
        "<a href=\"https://colab.research.google.com/github/vsingh9076/Natural_Language_Processing/blob/master/NER/1_BiLSTM_PyTorch.ipynb\" target=\"_parent\"><img src=\"https://colab.research.google.com/assets/colab-badge.svg\" alt=\"Open In Colab\"/></a>"
      ]
    },
    {
      "cell_type": "markdown",
      "source": [
        "Credit : [Yosef](https://yoseflaw.medium.com/step-by-step-ner-model-for-bahasa-indonesia-with-pytorch-and-torchtext-6f94fca08406)"
      ],
      "metadata": {
        "id": "5xKE2LHkisQn"
      }
    },
    {
      "cell_type": "markdown",
      "metadata": {
        "id": "f9smZIEt3pa2"
      },
      "source": [
        "# How to perform sequence labeling with pytorch?\n",
        "\n",
        "I could not find any tutorial that provides a vanilla implementation of sequence labeling with pytorch and torchtext. The closest one is [this](https://colab.research.google.com/github/bentrevett/pytorch-pos-tagging/blob/master/1%20-%20BiLSTM%20for%20PoS%20Tagging.ipynb) (the basis of this notebook). Most of the other examples include miscellaneous improvements, which are hard to differentiate from the essential components. As I intend to understand the foundation of pytorch for NLP, I decided to strip all those advance techniques and focus on understanding each component. Granted, this implementation is far from perfect (well, it is a *minimum* after all). In fact, I point out, in the end, why starting from scratch can be beneficial from learning point-of-view.\n"
      ]
    },
    {
      "cell_type": "code",
      "metadata": {
        "id": "cNM7zQp9q7jJ",
        "colab": {
          "base_uri": "https://localhost:8080/"
        },
        "outputId": "1917488b-06a2-4914-d0ba-140dc00e0cca"
      },
      "source": [
        "# from google.colab import drive\n",
        "# drive.mount(\"/content/gdrive\")\n",
        "\n",
        "# !git clone https://github.com/yoseflaw/nerindo.git"
      ],
      "execution_count": 2,
      "outputs": [
        {
          "output_type": "stream",
          "name": "stdout",
          "text": [
            "Cloning into 'nerindo'...\n",
            "remote: Enumerating objects: 69, done.\u001b[K\n",
            "remote: Counting objects: 100% (69/69), done.\u001b[K\n",
            "remote: Compressing objects: 100% (50/50), done.\u001b[K\n",
            "remote: Total 69 (delta 28), reused 55 (delta 18), pack-reused 0\u001b[K\n",
            "Receiving objects: 100% (69/69), 309.32 KiB | 6.31 MiB/s, done.\n",
            "Resolving deltas: 100% (28/28), done.\n"
          ]
        }
      ]
    },
    {
      "cell_type": "code",
      "metadata": {
        "id": "Xtfi8kEesimF",
        "colab": {
          "base_uri": "https://localhost:8080/"
        },
        "outputId": "a581ad47-3fa3-4a5e-ebc8-f6bad95497b3"
      },
      "source": [
        "!pip install torchtext==0.6.0\n",
        "\n",
        "import time\n",
        "import torch\n",
        "from torch import nn\n",
        "from torch.optim import Adam\n",
        "from torchtext.data import Field, BucketIterator\n",
        "from torchtext.datasets import SequenceTaggingDataset\n",
        "from spacy.lang.id import Indonesian"
      ],
      "execution_count": 1,
      "outputs": [
        {
          "output_type": "stream",
          "name": "stdout",
          "text": [
            "Collecting torchtext==0.6.0\n",
            "  Downloading torchtext-0.6.0-py3-none-any.whl (64 kB)\n",
            "\u001b[2K     \u001b[90m━━━━━━━━━━━━━━━━━━━━━━━━━━━━━━━━━━━━━━━━\u001b[0m \u001b[32m64.2/64.2 kB\u001b[0m \u001b[31m1.1 MB/s\u001b[0m eta \u001b[36m0:00:00\u001b[0m\n",
            "\u001b[?25hRequirement already satisfied: tqdm in /usr/local/lib/python3.10/dist-packages (from torchtext==0.6.0) (4.66.1)\n",
            "Requirement already satisfied: requests in /usr/local/lib/python3.10/dist-packages (from torchtext==0.6.0) (2.31.0)\n",
            "Requirement already satisfied: torch in /usr/local/lib/python3.10/dist-packages (from torchtext==0.6.0) (2.1.0+cu118)\n",
            "Requirement already satisfied: numpy in /usr/local/lib/python3.10/dist-packages (from torchtext==0.6.0) (1.23.5)\n",
            "Requirement already satisfied: six in /usr/local/lib/python3.10/dist-packages (from torchtext==0.6.0) (1.16.0)\n",
            "Collecting sentencepiece (from torchtext==0.6.0)\n",
            "  Downloading sentencepiece-0.1.99-cp310-cp310-manylinux_2_17_x86_64.manylinux2014_x86_64.whl (1.3 MB)\n",
            "\u001b[2K     \u001b[90m━━━━━━━━━━━━━━━━━━━━━━━━━━━━━━━━━━━━━━━━\u001b[0m \u001b[32m1.3/1.3 MB\u001b[0m \u001b[31m17.6 MB/s\u001b[0m eta \u001b[36m0:00:00\u001b[0m\n",
            "\u001b[?25hRequirement already satisfied: charset-normalizer<4,>=2 in /usr/local/lib/python3.10/dist-packages (from requests->torchtext==0.6.0) (3.3.2)\n",
            "Requirement already satisfied: idna<4,>=2.5 in /usr/local/lib/python3.10/dist-packages (from requests->torchtext==0.6.0) (3.6)\n",
            "Requirement already satisfied: urllib3<3,>=1.21.1 in /usr/local/lib/python3.10/dist-packages (from requests->torchtext==0.6.0) (2.0.7)\n",
            "Requirement already satisfied: certifi>=2017.4.17 in /usr/local/lib/python3.10/dist-packages (from requests->torchtext==0.6.0) (2023.11.17)\n",
            "Requirement already satisfied: filelock in /usr/local/lib/python3.10/dist-packages (from torch->torchtext==0.6.0) (3.13.1)\n",
            "Requirement already satisfied: typing-extensions in /usr/local/lib/python3.10/dist-packages (from torch->torchtext==0.6.0) (4.5.0)\n",
            "Requirement already satisfied: sympy in /usr/local/lib/python3.10/dist-packages (from torch->torchtext==0.6.0) (1.12)\n",
            "Requirement already satisfied: networkx in /usr/local/lib/python3.10/dist-packages (from torch->torchtext==0.6.0) (3.2.1)\n",
            "Requirement already satisfied: jinja2 in /usr/local/lib/python3.10/dist-packages (from torch->torchtext==0.6.0) (3.1.2)\n",
            "Requirement already satisfied: fsspec in /usr/local/lib/python3.10/dist-packages (from torch->torchtext==0.6.0) (2023.6.0)\n",
            "Requirement already satisfied: triton==2.1.0 in /usr/local/lib/python3.10/dist-packages (from torch->torchtext==0.6.0) (2.1.0)\n",
            "Requirement already satisfied: MarkupSafe>=2.0 in /usr/local/lib/python3.10/dist-packages (from jinja2->torch->torchtext==0.6.0) (2.1.3)\n",
            "Requirement already satisfied: mpmath>=0.19 in /usr/local/lib/python3.10/dist-packages (from sympy->torch->torchtext==0.6.0) (1.3.0)\n",
            "Installing collected packages: sentencepiece, torchtext\n",
            "  Attempting uninstall: torchtext\n",
            "    Found existing installation: torchtext 0.16.0\n",
            "    Uninstalling torchtext-0.16.0:\n",
            "      Successfully uninstalled torchtext-0.16.0\n",
            "Successfully installed sentencepiece-0.1.99 torchtext-0.6.0\n"
          ]
        }
      ]
    },
    {
      "cell_type": "markdown",
      "metadata": {
        "id": "rg-zfQepVRfW"
      },
      "source": [
        "Before we go to the implementation, let's observe the dataset. I combined two Indonesian NER datasets ([this](https://github.com/yohanesgultom/nlp-experiments) and [this](https://github.com/yusufsyaifudin/indonesia-ner)). I skip the data transformation step in this notebook. The input format that is supported by torchtext for sequence tagging is similar to [CoNLL-2003](https://www.aclweb.org/anthology/W03-0419.pdf). An example is provided below. Each line consists of multiple `columns` separated by `\\t` (tab). For simplicity, I keep only the words and the tags. Note that this format assumed tokenized words. Every sentence is separated by a blank line and there is no information on which sentences belong to the same document (all assumed as independent sentences).\n",
        "\n",
        "To accommodate multi-word entities, the tags follow what is called `BILOU` format: **B**eginning, **I**nside, **L**ast, **O**uter, **U**nit. This is indicated by the character preceding the dash symbol. The type of the named entity is shown by the remaining part. For instance, *Universtas Gadjah Mada* is an `ORGANIZATION` and *Arie Sudjito* is a `PERSON`.\n",
        "\n",
        "You can check out the datasets [here](https://github.com/yoseflaw/nerindo/tree/master/input).\n"
      ]
    },
    {
      "cell_type": "markdown",
      "metadata": {
        "id": "4egaAQ66MKrr"
      },
      "source": [
        "\n",
        "```\n",
        "Pengamat\tO\n",
        "politik\tO\n",
        "dari\tO\n",
        "Universitas\tB-ORGANIZATION\n",
        "Gadjah\tI-ORGANIZATION\n",
        "Mada\tL-ORGANIZATION\n",
        ",\tO\n",
        "Arie\tB-PERSON\n",
        "Sudjito\tL-PERSON\n",
        ",\tO\n",
        "menilai\tO\n",
        ",\tO\n",
        "keinginan\tO\n",
        "Ketua\tO\n",
        "Umum\tO\n",
        "Partai\tB-ORGANIZATION\n",
        "Golkar\tL-ORGANIZATION\n",
        "Aburizal\tB-PERSON\n",
        "Bakrie\tL-PERSON\n",
        "untuk\tO\n",
        "maju\tO\n",
        "kembali\tO\n",
        "sebagai\tO\n",
        "ketua\tO\n",
        "umum\tO\n",
        "merupakan\tO\n",
        "pemaksaan\tO\n",
        "kehendak\tO\n",
        ".\tO\n",
        "\n",
        "Menurut\tO\n",
        "dia\tO\n",
        ",\tO\n",
        "ada\tO\n",
        "kesan\tO\n",
        "bahwa\tO\n",
        "Aburizal\tU-PERSON\n",
        "menggunakan\tO\n",
        "segala\tO\n",
        "cara\tO\n",
        "untuk\tO\n",
        "memuluskan\tO\n",
        "jalannya\tO\n",
        "kembali\tO\n",
        "menduduki\tO\n",
        "Golkar\tU-ORGANIZATION\n",
        "1\tO\n",
        ".\tO\n",
        "```\n",
        "\n"
      ]
    },
    {
      "cell_type": "markdown",
      "metadata": {
        "id": "dozQS2b4VUkt"
      },
      "source": [
        "## Building blocks\n",
        "\n",
        "Using the object-oriented approach, there are at least three components of a pytorch model. Of course, this is not something written in stone, but I find this the most logical separation:\n",
        "\n",
        "1.   Corpus: handling the dataset and batching\n",
        "2.   Model: holding the BiLSTM architecture and forward pass logic\n",
        "3.   Trainer: training sequence of the model\n",
        "\n"
      ]
    },
    {
      "cell_type": "markdown",
      "metadata": {
        "id": "5WBsSzEfnOw0"
      },
      "source": [
        "## Corpus\n",
        "\n",
        "I use torchtext for the corpus preparation. [Here](https://mlexplained.com/2018/02/08/a-comprehensive-tutorial-to-torchtext/) is a good introduction to torchtext if you are interested."
      ]
    },
    {
      "cell_type": "code",
      "metadata": {
        "id": "JFivwqeWtTZP"
      },
      "source": [
        "class Corpus(object):\n",
        "\n",
        "  def __init__(self, input_folder, min_word_freq, batch_size):\n",
        "    # list all the fields\n",
        "    self.word_field = Field(lower=True)\n",
        "    self.tag_field = Field(unk_token=None)\n",
        "    # create dataset using built-in parser from torchtext\n",
        "    self.train_dataset, self.val_dataset, self.test_dataset = SequenceTaggingDataset.splits(\n",
        "        path=input_folder,\n",
        "        train=\"train.tsv\",\n",
        "        validation=\"val.tsv\",\n",
        "        test=\"test.tsv\",\n",
        "        fields=((\"word\", self.word_field), (\"tag\", self.tag_field))\n",
        "    )\n",
        "    # convert fields to vocabulary list\n",
        "    self.word_field.build_vocab(self.train_dataset.word, min_freq=min_word_freq)\n",
        "    self.tag_field.build_vocab(self.train_dataset.tag)\n",
        "    # create iterator for batch input\n",
        "    self.train_iter, self.val_iter, self.test_iter = BucketIterator.splits(\n",
        "        datasets=(self.train_dataset, self.val_dataset, self.test_dataset),\n",
        "        batch_size=batch_size\n",
        "    )\n",
        "    # prepare padding index to be ignored during model training/evaluation\n",
        "    self.word_pad_idx = self.word_field.vocab.stoi[self.word_field.pad_token]\n",
        "    self.tag_pad_idx = self.tag_field.vocab.stoi[self.tag_field.pad_token]"
      ],
      "execution_count": 3,
      "outputs": []
    },
    {
      "cell_type": "code",
      "metadata": {
        "id": "WwGH2CeL9IzB",
        "colab": {
          "base_uri": "https://localhost:8080/"
        },
        "outputId": "c040f515-7aed-4c6f-ed97-2d5f7b2b88de"
      },
      "source": [
        "corpus = Corpus(\n",
        "    input_folder=\"/content/nerindo/input\",\n",
        "    min_word_freq=3,  # any words occurring less than 3 times will be ignored from vocab\n",
        "    batch_size=64\n",
        ")\n",
        "print(f\"Train set: {len(corpus.train_dataset)} sentences\")\n",
        "print(f\"Val set: {len(corpus.val_dataset)} sentences\")\n",
        "print(f\"Test set: {len(corpus.test_dataset)} sentences\")"
      ],
      "execution_count": 4,
      "outputs": [
        {
          "output_type": "stream",
          "name": "stdout",
          "text": [
            "Train set: 3535 sentences\n",
            "Val set: 470 sentences\n",
            "Test set: 468 sentences\n"
          ]
        }
      ]
    },
    {
      "cell_type": "markdown",
      "metadata": {
        "id": "pY0nNHo1nVEU"
      },
      "source": [
        "## Model"
      ]
    },
    {
      "cell_type": "code",
      "metadata": {
        "id": "fCG-qj47tgDL"
      },
      "source": [
        "class BiLSTM(nn.Module):\n",
        "\n",
        "  def __init__(self, input_dim, embedding_dim, hidden_dim, output_dim, lstm_layers,\n",
        "               emb_dropout, lstm_dropout, fc_dropout, word_pad_idx):\n",
        "    super().__init__()\n",
        "    self.embedding_dim = embedding_dim\n",
        "    # LAYER 1: Embedding\n",
        "    self.embedding = nn.Embedding(\n",
        "        num_embeddings=input_dim,\n",
        "        embedding_dim=embedding_dim,\n",
        "        padding_idx=word_pad_idx\n",
        "    )\n",
        "    self.emb_dropout = nn.Dropout(emb_dropout)\n",
        "    # LAYER 2: BiLSTM\n",
        "    self.lstm = nn.LSTM(\n",
        "        input_size=embedding_dim,\n",
        "        hidden_size=hidden_dim,\n",
        "        num_layers=lstm_layers,\n",
        "        bidirectional=True,\n",
        "        dropout=lstm_dropout if lstm_layers > 1 else 0\n",
        "    )\n",
        "    # LAYER 3: Fully-connected\n",
        "    self.fc_dropout = nn.Dropout(fc_dropout)\n",
        "    self.fc = nn.Linear(hidden_dim * 2, output_dim)  # times 2 for bidirectional\n",
        "\n",
        "  def forward(self, sentence):\n",
        "    # sentence = [sentence length, batch size]\n",
        "    # embedding_out = [sentence length, batch size, embedding dim]\n",
        "    embedding_out = self.emb_dropout(self.embedding(sentence))\n",
        "    # lstm_out = [sentence length, batch size, hidden dim * 2]\n",
        "    lstm_out, _ = self.lstm(embedding_out)\n",
        "    # ner_out = [sentence length, batch size, output dim]\n",
        "    ner_out = self.fc(self.fc_dropout(lstm_out))\n",
        "    return ner_out\n",
        "\n",
        "  def init_weights(self):\n",
        "    # to initialize all parameters from normal distribution\n",
        "    # helps with converging during training\n",
        "    for name, param in self.named_parameters():\n",
        "      nn.init.normal_(param.data, mean=0, std=0.1)\n",
        "\n",
        "  def init_embeddings(self, word_pad_idx):\n",
        "    # initialize embedding for padding as zero\n",
        "    self.embedding.weight.data[word_pad_idx] = torch.zeros(self.embedding_dim)\n",
        "\n",
        "  def count_parameters(self):\n",
        "    return sum(p.numel() for p in self.parameters() if p.requires_grad)"
      ],
      "execution_count": 5,
      "outputs": []
    },
    {
      "cell_type": "code",
      "metadata": {
        "id": "q2-WqibW_EdU",
        "colab": {
          "base_uri": "https://localhost:8080/"
        },
        "outputId": "cd225979-34c6-4725-e0b1-e434571a73dc"
      },
      "source": [
        "bilstm = BiLSTM(\n",
        "    input_dim=len(corpus.word_field.vocab),\n",
        "    embedding_dim=300,\n",
        "    hidden_dim=64,\n",
        "    output_dim=len(corpus.tag_field.vocab),\n",
        "    lstm_layers=2,\n",
        "    emb_dropout=0.5,\n",
        "    lstm_dropout=0.1,\n",
        "    fc_dropout=0.25,\n",
        "    word_pad_idx=corpus.word_pad_idx\n",
        ")\n",
        "bilstm.init_weights()\n",
        "bilstm.init_embeddings(word_pad_idx=corpus.word_pad_idx)\n",
        "print(f\"The model has {bilstm.count_parameters():,} trainable parameters.\")\n",
        "print(bilstm)"
      ],
      "execution_count": 6,
      "outputs": [
        {
          "output_type": "stream",
          "name": "stdout",
          "text": [
            "The model has 1,383,658 trainable parameters.\n",
            "BiLSTM(\n",
            "  (embedding): Embedding(3647, 300, padding_idx=1)\n",
            "  (emb_dropout): Dropout(p=0.5, inplace=False)\n",
            "  (lstm): LSTM(300, 64, num_layers=2, dropout=0.1, bidirectional=True)\n",
            "  (fc_dropout): Dropout(p=0.25, inplace=False)\n",
            "  (fc): Linear(in_features=128, out_features=22, bias=True)\n",
            ")\n"
          ]
        }
      ]
    },
    {
      "cell_type": "markdown",
      "metadata": {
        "id": "EyUxcqXmnbNg"
      },
      "source": [
        "## Trainer\n",
        "\n",
        "Here, I include both the training sequence and also the inference function."
      ]
    },
    {
      "cell_type": "code",
      "metadata": {
        "id": "TJaQFF461Emv"
      },
      "source": [
        "class NER(object):\n",
        "\n",
        "  def __init__(self, model, data, optimizer_cls, loss_fn_cls):\n",
        "    self.model = model\n",
        "    self.data = data\n",
        "    self.optimizer = optimizer_cls(model.parameters())\n",
        "    self.loss_fn = loss_fn_cls(ignore_index=self.data.tag_pad_idx)\n",
        "\n",
        "  @staticmethod\n",
        "  def epoch_time(start_time, end_time):\n",
        "    elapsed_time = end_time - start_time\n",
        "    elapsed_mins = int(elapsed_time / 60)\n",
        "    elapsed_secs = int(elapsed_time - (elapsed_mins * 60))\n",
        "    return elapsed_mins, elapsed_secs\n",
        "\n",
        "  def accuracy(self, preds, y):\n",
        "    max_preds = preds.argmax(dim=1, keepdim=True)  # get the index of the max probability\n",
        "    non_pad_elements = (y != self.data.tag_pad_idx).nonzero()  # prepare masking for paddings\n",
        "    correct = max_preds[non_pad_elements].squeeze(1).eq(y[non_pad_elements])\n",
        "    return correct.sum() / torch.FloatTensor([y[non_pad_elements].shape[0]])\n",
        "\n",
        "  def epoch(self):\n",
        "      epoch_loss = 0\n",
        "      epoch_acc = 0\n",
        "      self.model.train()\n",
        "      for batch in self.data.train_iter:\n",
        "        # text = [sent len, batch size]\n",
        "        text = batch.word\n",
        "        # tags = [sent len, batch size]\n",
        "        true_tags = batch.tag\n",
        "        self.optimizer.zero_grad()\n",
        "        pred_tags = self.model(text)\n",
        "        # to calculate the loss and accuracy, we flatten both prediction and true tags\n",
        "        # flatten pred_tags to [sent len, batch size, output dim]\n",
        "        pred_tags = pred_tags.view(-1, pred_tags.shape[-1])\n",
        "        # flatten true_tags to [sent len * batch size]\n",
        "        true_tags = true_tags.view(-1)\n",
        "        batch_loss = self.loss_fn(pred_tags, true_tags)\n",
        "        batch_acc = self.accuracy(pred_tags, true_tags)\n",
        "        batch_loss.backward()\n",
        "        self.optimizer.step()\n",
        "        epoch_loss += batch_loss.item()\n",
        "        epoch_acc += batch_acc.item()\n",
        "      return epoch_loss / len(self.data.train_iter), epoch_acc / len(self.data.train_iter)\n",
        "\n",
        "  def evaluate(self, iterator):\n",
        "      epoch_loss = 0\n",
        "      epoch_acc = 0\n",
        "      self.model.eval()\n",
        "      with torch.no_grad():\n",
        "          # similar to epoch() but model is in evaluation mode and no backprop\n",
        "          for batch in iterator:\n",
        "              text = batch.word\n",
        "              true_tags = batch.tag\n",
        "              pred_tags = self.model(text)\n",
        "              pred_tags = pred_tags.view(-1, pred_tags.shape[-1])\n",
        "              true_tags = true_tags.view(-1)\n",
        "              batch_loss = self.loss_fn(pred_tags, true_tags)\n",
        "              batch_acc = self.accuracy(pred_tags, true_tags)\n",
        "              epoch_loss += batch_loss.item()\n",
        "              epoch_acc += batch_acc.item()\n",
        "      return epoch_loss / len(iterator), epoch_acc / len(iterator)\n",
        "\n",
        "  # main training sequence\n",
        "  def train(self, n_epochs):\n",
        "    for epoch in range(n_epochs):\n",
        "        start_time = time.time()\n",
        "        train_loss, train_acc = self.epoch()\n",
        "        end_time = time.time()\n",
        "        epoch_mins, epoch_secs = NER.epoch_time(start_time, end_time)\n",
        "        print(f\"Epoch: {epoch + 1:02} | Epoch Time: {epoch_mins}m {epoch_secs}s\")\n",
        "        print(f\"\\tTrn Loss: {train_loss:.3f} | Trn Acc: {train_acc * 100:.2f}%\")\n",
        "        val_loss, val_acc = self.evaluate(self.data.val_iter)\n",
        "        print(f\"\\tVal Loss: {val_loss:.3f} | Val Acc: {val_acc * 100:.2f}%\")\n",
        "    test_loss, test_acc = self.evaluate(self.data.test_iter)\n",
        "    print(f\"Test Loss: {test_loss:.3f} |  Test Acc: {test_acc * 100:.2f}%\")\n",
        "\n",
        "  def infer(self, sentence, true_tags=None):\n",
        "    self.model.eval()\n",
        "    # tokenize sentence\n",
        "    nlp = Indonesian()\n",
        "    tokens = [token.text.lower() for token in nlp(sentence)]\n",
        "    # transform to indices based on corpus vocab\n",
        "    numericalized_tokens = [self.data.word_field.vocab.stoi[t] for t in tokens]\n",
        "    # find unknown words\n",
        "    unk_idx = self.data.word_field.vocab.stoi[self.data.word_field.unk_token]\n",
        "    unks = [t for t, n in zip(tokens, numericalized_tokens) if n == unk_idx]\n",
        "    # begin prediction\n",
        "    token_tensor = torch.LongTensor(numericalized_tokens)\n",
        "    token_tensor = token_tensor.unsqueeze(-1)\n",
        "    predictions = self.model(token_tensor)\n",
        "    # convert results to tags\n",
        "    top_predictions = predictions.argmax(-1)\n",
        "    predicted_tags = [self.data.tag_field.vocab.itos[t.item()] for t in top_predictions]\n",
        "    # print inferred tags\n",
        "    max_len_token = max([len(token) for token in tokens] + [len(\"word\")])\n",
        "    max_len_tag = max([len(tag) for tag in predicted_tags] + [len(\"pred\")])\n",
        "    print(\n",
        "        f\"{'word'.ljust(max_len_token)}\\t{'unk'.ljust(max_len_token)}\\t{'pred tag'.ljust(max_len_tag)}\"\n",
        "        + (\"\\ttrue tag\" if true_tags else \"\")\n",
        "        )\n",
        "    for i, token in enumerate(tokens):\n",
        "      is_unk = \"✓\" if token in unks else \"\"\n",
        "      print(\n",
        "          f\"{token.ljust(max_len_token)}\\t{is_unk.ljust(max_len_token)}\\t{predicted_tags[i].ljust(max_len_tag)}\"\n",
        "          + (f\"\\t{true_tags[i]}\" if true_tags else \"\")\n",
        "          )\n",
        "    return tokens, predicted_tags, unks"
      ],
      "execution_count": 7,
      "outputs": []
    },
    {
      "cell_type": "code",
      "metadata": {
        "id": "dKS0swe78uMi",
        "colab": {
          "base_uri": "https://localhost:8080/"
        },
        "outputId": "60b23022-e6cd-42ad-9e77-ba6a929f7ba5"
      },
      "source": [
        "# this will continue training if the model has been trained before.\n",
        "# to restart training, run the bilstm creation cell (2 cells above) once again.\n",
        "ner = NER(\n",
        "  model=bilstm,\n",
        "  data=corpus,\n",
        "  optimizer_cls=Adam,\n",
        "  loss_fn_cls=nn.CrossEntropyLoss\n",
        ")\n",
        "ner.train(10)"
      ],
      "execution_count": 8,
      "outputs": [
        {
          "output_type": "stream",
          "name": "stdout",
          "text": [
            "Epoch: 01 | Epoch Time: 0m 13s\n",
            "\tTrn Loss: 1.295 | Trn Acc: 80.68%\n",
            "\tVal Loss: 0.809 | Val Acc: 85.67%\n",
            "Epoch: 02 | Epoch Time: 0m 14s\n",
            "\tTrn Loss: 0.875 | Trn Acc: 83.09%\n",
            "\tVal Loss: 0.653 | Val Acc: 85.67%\n",
            "Epoch: 03 | Epoch Time: 0m 13s\n",
            "\tTrn Loss: 0.672 | Trn Acc: 83.35%\n",
            "\tVal Loss: 0.527 | Val Acc: 85.65%\n",
            "Epoch: 04 | Epoch Time: 0m 13s\n",
            "\tTrn Loss: 0.535 | Trn Acc: 85.42%\n",
            "\tVal Loss: 0.442 | Val Acc: 88.06%\n",
            "Epoch: 05 | Epoch Time: 0m 15s\n",
            "\tTrn Loss: 0.419 | Trn Acc: 88.67%\n",
            "\tVal Loss: 0.358 | Val Acc: 89.97%\n",
            "Epoch: 06 | Epoch Time: 0m 13s\n",
            "\tTrn Loss: 0.325 | Trn Acc: 90.96%\n",
            "\tVal Loss: 0.323 | Val Acc: 90.78%\n",
            "Epoch: 07 | Epoch Time: 0m 13s\n",
            "\tTrn Loss: 0.263 | Trn Acc: 92.66%\n",
            "\tVal Loss: 0.328 | Val Acc: 90.45%\n",
            "Epoch: 08 | Epoch Time: 0m 12s\n",
            "\tTrn Loss: 0.225 | Trn Acc: 93.72%\n",
            "\tVal Loss: 0.309 | Val Acc: 90.69%\n",
            "Epoch: 09 | Epoch Time: 0m 14s\n",
            "\tTrn Loss: 0.194 | Trn Acc: 94.41%\n",
            "\tVal Loss: 0.300 | Val Acc: 91.60%\n",
            "Epoch: 10 | Epoch Time: 0m 15s\n",
            "\tTrn Loss: 0.169 | Trn Acc: 95.12%\n",
            "\tVal Loss: 0.319 | Val Acc: 91.31%\n",
            "Test Loss: 0.391 |  Test Acc: 89.72%\n"
          ]
        }
      ]
    },
    {
      "cell_type": "code",
      "metadata": {
        "id": "A9gi1AhlFjfh",
        "colab": {
          "base_uri": "https://localhost:8080/"
        },
        "outputId": "052503f4-2c3f-418c-8a01-824cc866f1b3"
      },
      "source": [
        "# https://regional.kompas.com/read/2020/07/12/15554711/diduga-terlibat-perselingkuhan-ketua-kpu-sumba-barat-diberhentikan\n",
        "sentence = \"\\\"Menjatuhkan sanksi pemberhentian tetap kepada teradu Sophia Marlinda Djami selaku Ketua KPU Kabupaten Sumba Barat, sejak dibacakannya putusan ini\\\", ucap Alfitra dalam sidang putusan, Rabu (8/7/2020).\"\n",
        "tags = [\"O\", \"O\", \"O\", \"O\", \"O\", \"O\", \"O\", \"B-PERSON\", \"I-PERSON\", \"L-PERSON\", \"O\", \"O\", \"B-ORGANIZATION\", \"I-ORGANIZATION\", \"I-ORGANIZATION\", \"L-ORGANIZATION\", \"O\", \"O\", \"O\", \"O\", \"O\", \"O\", \"O\", \"O\", \"U-PERSON\", \"O\", \"O\", \"O\", \"O\", \"B-TIME\", \"I-TIME\", \"I-TIME\", \"I-TIME\", \"I-TIME\", \"I-TIME\", \"I-TIME\", \"L-TIME\", \"O\"]\n",
        "words, infer_tags, unknown_tokens = ner.infer(sentence=sentence, true_tags=tags)"
      ],
      "execution_count": 9,
      "outputs": [
        {
          "output_type": "stream",
          "name": "stdout",
          "text": [
            "word         \tunk          \tpred tag      \ttrue tag\n",
            "\"            \t             \tO             \tO\n",
            "menjatuhkan  \t             \tO             \tO\n",
            "sanksi       \t             \tO             \tO\n",
            "pemberhentian\t✓            \tO             \tO\n",
            "tetap        \t             \tO             \tO\n",
            "kepada       \t             \tO             \tO\n",
            "teradu       \t✓            \tO             \tO\n",
            "sophia       \t✓            \tO             \tB-PERSON\n",
            "marlinda     \t✓            \tO             \tI-PERSON\n",
            "djami        \t✓            \tO             \tL-PERSON\n",
            "selaku       \t             \tO             \tO\n",
            "ketua        \t             \tO             \tO\n",
            "kpu          \t             \tU-ORGANIZATION\tB-ORGANIZATION\n",
            "kabupaten    \t             \tO             \tI-ORGANIZATION\n",
            "sumba        \t✓            \tB-PERSON      \tI-ORGANIZATION\n",
            "barat        \t             \tO             \tL-ORGANIZATION\n",
            ",            \t             \tO             \tO\n",
            "sejak        \t             \tO             \tO\n",
            "dibacakannya \t✓            \tO             \tO\n",
            "putusan      \t             \tO             \tO\n",
            "ini          \t             \tO             \tO\n",
            "\"            \t             \tO             \tO\n",
            ",            \t             \tO             \tO\n",
            "ucap         \t             \tO             \tO\n",
            "alfitra      \t✓            \tU-PERSON      \tU-PERSON\n",
            "dalam        \t             \tO             \tO\n",
            "sidang       \t             \tO             \tO\n",
            "putusan      \t             \tO             \tO\n",
            ",            \t             \tO             \tO\n",
            "rabu         \t             \tO             \tB-TIME\n",
            "(            \t             \tO             \tI-TIME\n",
            "8            \t             \tO             \tI-TIME\n",
            "/            \t             \tO             \tI-TIME\n",
            "7            \t             \tO             \tI-TIME\n",
            "/            \t             \tO             \tI-TIME\n",
            "2020         \t✓            \tO             \tI-TIME\n",
            ")            \t             \tO             \tL-TIME\n",
            ".            \t             \tO             \tO\n"
          ]
        }
      ]
    },
    {
      "cell_type": "code",
      "metadata": {
        "id": "p-uCXVu38br4",
        "colab": {
          "base_uri": "https://localhost:8080/"
        },
        "outputId": "6fefa97c-9056-4240-8ed2-217c96e03f9a"
      },
      "source": [
        "# https://regional.kompas.com/read/2020/07/15/16583081/banjir-bandang-di-masamba-19-korban-meninggal-23-hilang-15000-mengungsi\n",
        "sentence = \"Sementara itu, Kepala Pelaksana BPBD Luwu Utara Muslim Muchtar mengatakan, terdapat 15.000 jiwa mengungsi akibat banjir bandang.\"\n",
        "tags = [\"O\", \"O\", \"O\", \"O\", \"O\", \"B-ORGANIZATION\", \"I-ORGANIZATION\", \"L-ORGANIZATION\", \"B-PERSON\", \"L-PERSON\", \"O\", \"O\", \"O\", \"U-QUANTITY\", \"O\", \"O\", \"O\", \"O\", \"O\", \"O\"]\n",
        "words, infer_tags, unknown_tokens = ner.infer(sentence=sentence, true_tags=tags)"
      ],
      "execution_count": 10,
      "outputs": [
        {
          "output_type": "stream",
          "name": "stdout",
          "text": [
            "word      \tunk       \tpred tag      \ttrue tag\n",
            "sementara \t          \tO             \tO\n",
            "itu       \t          \tO             \tO\n",
            ",         \t          \tO             \tO\n",
            "kepala    \t          \tO             \tO\n",
            "pelaksana \t✓         \tO             \tO\n",
            "bpbd      \t✓         \tO             \tB-ORGANIZATION\n",
            "luwu      \t✓         \tI-ORGANIZATION\tI-ORGANIZATION\n",
            "utara     \t          \tI-PERSON      \tL-ORGANIZATION\n",
            "muslim    \t✓         \tI-PERSON      \tB-PERSON\n",
            "muchtar   \t✓         \tL-PERSON      \tL-PERSON\n",
            "mengatakan\t          \tO             \tO\n",
            ",         \t          \tO             \tO\n",
            "terdapat  \t          \tO             \tO\n",
            "15.000    \t✓         \tB-QUANTITY    \tU-QUANTITY\n",
            "jiwa      \t          \tI-QUANTITY    \tO\n",
            "mengungsi \t✓         \tL-QUANTITY    \tO\n",
            "akibat    \t          \tO             \tO\n",
            "banjir    \t          \tO             \tO\n",
            "bandang   \t✓         \tO             \tO\n",
            ".         \t          \tO             \tO\n"
          ]
        }
      ]
    },
    {
      "cell_type": "markdown",
      "metadata": {
        "id": "IXUH1ZXyU7dP"
      },
      "source": [
        "## Now what?\n",
        "\n",
        "As you can see from the result, it is far from perfect and tends to overfit. Coming up with a list of possible improvements is easy, but deciding which one is the key. Should we incorporate pre-trained embeddings? Is accuracy the best metric to measure the performance? How about character-level features? Maybe include an attention layer?\n",
        "\n",
        "We often overlook this step while following an example/a tutorial. We carelessly jump to the model that includes everything. Tinkering with those choices helps to understand the effect of each improvement. Which method should we prioritize to implement?\n",
        "\n",
        "Continue here: [Part 2: Word2Vec](https://colab.research.google.com/drive/14i8ixDeJv6YIebvW6aKGFOJyXTUCTfR9?usp=sharing).\n"
      ]
    }
  ]
}