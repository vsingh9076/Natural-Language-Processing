{
 "cells": [
  {
   "cell_type": "markdown",
   "metadata": {},
   "source": [
    "## Using nltk"
   ]
  },
  {
   "cell_type": "markdown",
   "metadata": {},
   "source": [
    "### Import required modules"
   ]
  },
  {
   "cell_type": "code",
   "execution_count": 1,
   "metadata": {},
   "outputs": [],
   "source": [
    "import nltk\n",
    "from nltk.tokenize import word_tokenize\n",
    "from nltk.tag import pos_tag\n",
    "from nltk.chunk import ne_chunk"
   ]
  },
  {
   "cell_type": "markdown",
   "metadata": {},
   "source": [
    "### Enter the paragraph"
   ]
  },
  {
   "cell_type": "code",
   "execution_count": 2,
   "metadata": {},
   "outputs": [],
   "source": [
    "doc = \"\"\"According to a media report, Mumbai has the highest density of cars in India. Pune is in second place. \n",
    "         The density of private cars in Mumbai has gone up by 18% in 2 years. There are 510 cars per km of road as opposed to \n",
    "         430 cars per km in 2016. This is almost five times that of Delhi (108 cars per km). Despite having fewer cars than \n",
    "         Delhi, Mumbai is more congested due to low road space. Mumbai has 2,000 km of roads compared to the national capital, \n",
    "         which has 28,000 km of roadways. There are 10.2 lakh private cars in Mumbai. That is 28% of the total number of \n",
    "         vehicles in the city, which stands at 36 lakh. According to RTO officials, the western suburbs have the highest number \n",
    "         of registered cars (5 lakh). There are 3.3 lakh private cars in the island city and 1.7 lakh in the eastern suburbs.\n",
    "         Pune has 359 cars per km and Kolkata is the third most congested city with 319 cars per km. Chennai comes in fourth \n",
    "         with 297 cars per km followed by Bangalore with 149 cars per km.\"\"\""
   ]
  },
  {
   "cell_type": "markdown",
   "metadata": {},
   "source": [
    "### Tokenize the paragraph"
   ]
  },
  {
   "cell_type": "code",
   "execution_count": 3,
   "metadata": {},
   "outputs": [
    {
     "name": "stdout",
     "output_type": "stream",
     "text": [
      "['According', 'to', 'a', 'media', 'report', ',', 'Mumbai', 'has', 'the', 'highest', 'density', 'of', 'cars', 'in', 'India', '.', 'Pune', 'is', 'in', 'second', 'place', '.', 'The', 'density', 'of', 'private', 'cars', 'in', 'Mumbai', 'has', 'gone', 'up', 'by', '18', '%', 'in', '2', 'years', '.', 'There', 'are', '510', 'cars', 'per', 'km', 'of', 'road', 'as', 'opposed', 'to', '430', 'cars', 'per', 'km', 'in', '2016', '.', 'This', 'is', 'almost', 'five', 'times', 'that', 'of', 'Delhi', '(', '108', 'cars', 'per', 'km', ')', '.', 'Despite', 'having', 'fewer', 'cars', 'than', 'Delhi', ',', 'Mumbai', 'is', 'more', 'congested', 'due', 'to', 'low', 'road', 'space', '.', 'Mumbai', 'has', '2,000', 'km', 'of', 'roads', 'compared', 'to', 'the', 'national', 'capital', ',', 'which', 'has', '28,000', 'km', 'of', 'roadways', '.', 'There', 'are', '10.2', 'lakh', 'private', 'cars', 'in', 'Mumbai', '.', 'That', 'is', '28', '%', 'of', 'the', 'total', 'number', 'of', 'vehicles', 'in', 'the', 'city', ',', 'which', 'stands', 'at', '36', 'lakh', '.', 'According', 'to', 'RTO', 'officials', ',', 'the', 'western', 'suburbs', 'have', 'the', 'highest', 'number', 'of', 'registered', 'cars', '(', '5', 'lakh', ')', '.', 'There', 'are', '3.3', 'lakh', 'private', 'cars', 'in', 'the', 'island', 'city', 'and', '1.7', 'lakh', 'in', 'the', 'eastern', 'suburbs', '.', 'Pune', 'has', '359', 'cars', 'per', 'km', 'and', 'Kolkata', 'is', 'the', 'third', 'most', 'congested', 'city', 'with', '319', 'cars', 'per', 'km', '.', 'Chennai', 'comes', 'in', 'fourth', 'with', '297', 'cars', 'per', 'km', 'followed', 'by', 'Bangalore', 'with', '149', 'cars', 'per', 'km', '.']\n"
     ]
    }
   ],
   "source": [
    "word_tokens = nltk.word_tokenize(doc)\n",
    "print(word_tokens)"
   ]
  },
  {
   "cell_type": "code",
   "execution_count": 4,
   "metadata": {},
   "outputs": [
    {
     "data": {
      "text/plain": [
       "list"
      ]
     },
     "execution_count": 4,
     "metadata": {},
     "output_type": "execute_result"
    }
   ],
   "source": [
    " type(word_tokens)"
   ]
  },
  {
   "cell_type": "markdown",
   "metadata": {},
   "source": [
    "### Tag Parts Of Speech (POS)"
   ]
  },
  {
   "cell_type": "code",
   "execution_count": 5,
   "metadata": {},
   "outputs": [
    {
     "name": "stdout",
     "output_type": "stream",
     "text": [
      "[('According', 'VBG'), ('to', 'TO'), ('a', 'DT'), ('media', 'NNS'), ('report', 'NN'), (',', ','), ('Mumbai', 'NNP'), ('has', 'VBZ'), ('the', 'DT'), ('highest', 'JJS'), ('density', 'NN'), ('of', 'IN'), ('cars', 'NNS'), ('in', 'IN'), ('India', 'NNP'), ('.', '.'), ('Pune', 'NNP'), ('is', 'VBZ'), ('in', 'IN'), ('second', 'JJ'), ('place', 'NN'), ('.', '.'), ('The', 'DT'), ('density', 'NN'), ('of', 'IN'), ('private', 'JJ'), ('cars', 'NNS'), ('in', 'IN'), ('Mumbai', 'NNP'), ('has', 'VBZ'), ('gone', 'VBN'), ('up', 'RP'), ('by', 'IN'), ('18', 'CD'), ('%', 'NN'), ('in', 'IN'), ('2', 'CD'), ('years', 'NNS'), ('.', '.'), ('There', 'EX'), ('are', 'VBP'), ('510', 'CD'), ('cars', 'NNS'), ('per', 'IN'), ('km', 'NN'), ('of', 'IN'), ('road', 'NN'), ('as', 'IN'), ('opposed', 'VBN'), ('to', 'TO'), ('430', 'CD'), ('cars', 'NNS'), ('per', 'IN'), ('km', 'NN'), ('in', 'IN'), ('2016', 'CD'), ('.', '.'), ('This', 'DT'), ('is', 'VBZ'), ('almost', 'RB'), ('five', 'CD'), ('times', 'NNS'), ('that', 'IN'), ('of', 'IN'), ('Delhi', 'NNP'), ('(', '('), ('108', 'CD'), ('cars', 'NNS'), ('per', 'IN'), ('km', 'NN'), (')', ')'), ('.', '.'), ('Despite', 'IN'), ('having', 'VBG'), ('fewer', 'JJR'), ('cars', 'NNS'), ('than', 'IN'), ('Delhi', 'NNP'), (',', ','), ('Mumbai', 'NNP'), ('is', 'VBZ'), ('more', 'RBR'), ('congested', 'JJ'), ('due', 'JJ'), ('to', 'TO'), ('low', 'JJ'), ('road', 'NN'), ('space', 'NN'), ('.', '.'), ('Mumbai', 'NNP'), ('has', 'VBZ'), ('2,000', 'CD'), ('km', 'NN'), ('of', 'IN'), ('roads', 'NNS'), ('compared', 'VBN'), ('to', 'TO'), ('the', 'DT'), ('national', 'JJ'), ('capital', 'NN'), (',', ','), ('which', 'WDT'), ('has', 'VBZ'), ('28,000', 'CD'), ('km', 'NN'), ('of', 'IN'), ('roadways', 'NNS'), ('.', '.'), ('There', 'EX'), ('are', 'VBP'), ('10.2', 'CD'), ('lakh', 'JJ'), ('private', 'JJ'), ('cars', 'NNS'), ('in', 'IN'), ('Mumbai', 'NNP'), ('.', '.'), ('That', 'DT'), ('is', 'VBZ'), ('28', 'CD'), ('%', 'NN'), ('of', 'IN'), ('the', 'DT'), ('total', 'JJ'), ('number', 'NN'), ('of', 'IN'), ('vehicles', 'NNS'), ('in', 'IN'), ('the', 'DT'), ('city', 'NN'), (',', ','), ('which', 'WDT'), ('stands', 'VBZ'), ('at', 'IN'), ('36', 'CD'), ('lakh', 'NN'), ('.', '.'), ('According', 'VBG'), ('to', 'TO'), ('RTO', 'NNP'), ('officials', 'NNS'), (',', ','), ('the', 'DT'), ('western', 'JJ'), ('suburbs', 'NNS'), ('have', 'VBP'), ('the', 'DT'), ('highest', 'JJS'), ('number', 'NN'), ('of', 'IN'), ('registered', 'JJ'), ('cars', 'NNS'), ('(', '('), ('5', 'CD'), ('lakh', 'NN'), (')', ')'), ('.', '.'), ('There', 'EX'), ('are', 'VBP'), ('3.3', 'CD'), ('lakh', 'JJ'), ('private', 'JJ'), ('cars', 'NNS'), ('in', 'IN'), ('the', 'DT'), ('island', 'NN'), ('city', 'NN'), ('and', 'CC'), ('1.7', 'CD'), ('lakh', 'NN'), ('in', 'IN'), ('the', 'DT'), ('eastern', 'JJ'), ('suburbs', 'NN'), ('.', '.'), ('Pune', 'NNP'), ('has', 'VBZ'), ('359', 'CD'), ('cars', 'NNS'), ('per', 'IN'), ('km', 'NN'), ('and', 'CC'), ('Kolkata', 'NNP'), ('is', 'VBZ'), ('the', 'DT'), ('third', 'JJ'), ('most', 'RBS'), ('congested', 'JJ'), ('city', 'NN'), ('with', 'IN'), ('319', 'CD'), ('cars', 'NNS'), ('per', 'IN'), ('km', 'NN'), ('.', '.'), ('Chennai', 'NNP'), ('comes', 'VBZ'), ('in', 'IN'), ('fourth', 'JJ'), ('with', 'IN'), ('297', 'CD'), ('cars', 'NNS'), ('per', 'IN'), ('km', 'NN'), ('followed', 'VBN'), ('by', 'IN'), ('Bangalore', 'NNP'), ('with', 'IN'), ('149', 'CD'), ('cars', 'NNS'), ('per', 'IN'), ('km', 'NN'), ('.', '.')]\n"
     ]
    }
   ],
   "source": [
    "postags = nltk.pos_tag(word_tokens)\n",
    "print(postags)"
   ]
  },
  {
   "cell_type": "markdown",
   "metadata": {},
   "source": [
    "### Find words that belong to Proper Noun (NNP)"
   ]
  },
  {
   "cell_type": "code",
   "execution_count": 6,
   "metadata": {},
   "outputs": [
    {
     "name": "stdout",
     "output_type": "stream",
     "text": [
      "  (PERSON Mumbai/NNP)\n",
      "  (GPE India/NNP)\n",
      "  Pune/NNP\n",
      "  (GPE Mumbai/NNP)\n",
      "  (GPE Delhi/NNP)\n",
      "  (PERSON Delhi/NNP)\n",
      "  (PERSON Mumbai/NNP)\n",
      "  (PERSON Mumbai/NNP)\n",
      "  (GPE Mumbai/NNP)\n",
      "  (ORGANIZATION RTO/NNP)\n",
      "  (PERSON Pune/NNP)\n",
      "  (PERSON Kolkata/NNP)\n",
      "  (PERSON Chennai/NNP)\n",
      "  (ORGANIZATION Bangalore/NNP)\n"
     ]
    }
   ],
   "source": [
    "nouns = ne_chunk(postags)\n",
    "locations = []\n",
    "for x in str(nouns).split('\\n'):\n",
    "    if '/NNP' in x:\n",
    "        locations.append(x)\n",
    "        print(str(x))"
   ]
  },
  {
   "cell_type": "markdown",
   "metadata": {},
   "source": [
    "### Clean the data"
   ]
  },
  {
   "cell_type": "code",
   "execution_count": 7,
   "metadata": {},
   "outputs": [
    {
     "data": {
      "text/plain": [
       "str"
      ]
     },
     "execution_count": 7,
     "metadata": {},
     "output_type": "execute_result"
    }
   ],
   "source": [
    "type(x)"
   ]
  },
  {
   "cell_type": "code",
   "execution_count": 13,
   "metadata": {},
   "outputs": [
    {
     "name": "stdout",
     "output_type": "stream",
     "text": [
      "['Mumbai/NNP', 'India/NNP', 'Pune/NNP', 'Mumbai/NNP', 'Delhi/NNP', 'Delhi/NNP', 'Mumbai/NNP', 'Mumbai/NNP', 'Mumbai/NNP', 'RTO/NNP', 'Pune/NNP', 'Kolkata/NNP', 'Chennai/NNP', 'Bangalore/NNP']\n"
     ]
    }
   ],
   "source": [
    "import re \n",
    "string = \"\"\"(PERSON Mumbai/NNP)\n",
    "  (GPE India/NNP)\n",
    "  Pune/NNP\n",
    "  (GPE Mumbai/NNP)\n",
    "  (GPE Delhi/NNP)\n",
    "  (PERSON Delhi/NNP)\n",
    "  (PERSON Mumbai/NNP)\n",
    "  (PERSON Mumbai/NNP)\n",
    "  (GPE Mumbai/NNP)\n",
    "  (ORGANIZATION RTO/NNP)\n",
    "  (PERSON Pune/NNP)\n",
    "  (PERSON Kolkata/NNP)\n",
    "  (PERSON Chennai/NNP)\n",
    "  (ORGANIZATION Bangalore/NNP)\"\"\"\n",
    "regex = r'\\w+/NNP'            \n",
    "match = re.findall(regex, string)  \n",
    "print(match) "
   ]
  },
  {
   "cell_type": "code",
   "execution_count": 9,
   "metadata": {},
   "outputs": [
    {
     "name": "stdout",
     "output_type": "stream",
     "text": [
      "['Mumbai/NNP', 'India/NNP', 'Pune/NNP', 'Delhi/NNP', 'RTO/NNP', 'Kolkata/NNP', 'Chennai/NNP', 'Bangalore/NNP']\n"
     ]
    }
   ],
   "source": [
    "p = []\n",
    "[p.append(x) for x in match if x not in p] \n",
    "print (str(p))"
   ]
  },
  {
   "cell_type": "markdown",
   "metadata": {},
   "source": [
    "## Using spacy"
   ]
  },
  {
   "cell_type": "code",
   "execution_count": 10,
   "metadata": {},
   "outputs": [],
   "source": [
    "import spacy\n",
    "from spacy import displacy"
   ]
  },
  {
   "cell_type": "code",
   "execution_count": 11,
   "metadata": {},
   "outputs": [
    {
     "name": "stdout",
     "output_type": "stream",
     "text": [
      "Mumbai GPE\n",
      "India GPE\n",
      "second ORDINAL\n",
      "Mumbai GPE\n",
      "18% PERCENT\n",
      "2 years DATE\n",
      "510 CARDINAL\n",
      "430 CARDINAL\n",
      "2016 DATE\n",
      "almost five CARDINAL\n",
      "Delhi GPE\n",
      "108 CARDINAL\n",
      "Delhi GPE\n",
      "Mumbai GPE\n",
      "Mumbai GPE\n",
      "2,000 km QUANTITY\n",
      "28,000 km QUANTITY\n",
      "10.2 CARDINAL\n",
      "Mumbai GPE\n",
      "28% PERCENT\n",
      "36 CARDINAL\n",
      "RTO ORG\n",
      "5 CARDINAL\n",
      "3.3 CARDINAL\n",
      "1.7 CARDINAL\n",
      "Pune GPE\n",
      "359 CARDINAL\n",
      "Kolkata PERSON\n",
      "third ORDINAL\n",
      "319 CARDINAL\n",
      "fourth ORDINAL\n",
      "297 CARDINAL\n",
      "Bangalore GPE\n",
      "149 CARDINAL\n"
     ]
    }
   ],
   "source": [
    "if __name__ == \"__main__\":\n",
    "    nlp = spacy.load('en_core_web_sm')\n",
    "    doc = nlp(\"\"\"According to a media report, Mumbai has the highest density of cars in India. Pune is in second place. \n",
    "         The density of private cars in Mumbai has gone up by 18% in 2 years. There are 510 cars per km of road as opposed to \n",
    "         430 cars per km in 2016. This is almost five times that of Delhi (108 cars per km). Despite having fewer cars than \n",
    "         Delhi, Mumbai is more congested due to low road space. Mumbai has 2,000 km of roads compared to the national capital, \n",
    "         which has 28,000 km of roadways. There are 10.2 lakh private cars in Mumbai. That is 28% of the total number of \n",
    "         vehicles in the city, which stands at 36 lakh. According to RTO officials, the western suburbs have the highest number \n",
    "         of registered cars (5 lakh). There are 3.3 lakh private cars in the island city and 1.7 lakh in the eastern suburbs.\n",
    "         Pune has 359 cars per km and Kolkata is the third most congested city with 319 cars per km. Chennai comes in fourth \n",
    "         with 297 cars per km followed by Bangalore with 149 cars per km.\"\"\")\n",
    "    for entity in doc.ents:\n",
    "        print(entity.text, entity.label_)"
   ]
  },
  {
   "cell_type": "code",
   "execution_count": 12,
   "metadata": {},
   "outputs": [
    {
     "name": "stderr",
     "output_type": "stream",
     "text": [
      "C:\\Users\\vsing\\Anaconda3\\lib\\runpy.py:193: UserWarning: [W011] It looks like you're calling displacy.serve from within a Jupyter notebook or a similar environment. This likely means you're already running a local web server, so there's no need to make displaCy start another one. Instead, you should be able to replace displacy.serve with displacy.render to show the visualization.\n",
      "  \"__main__\", mod_spec)\n"
     ]
    },
    {
     "data": {
      "text/html": [
       "<span class=\"tex2jax_ignore\"><!DOCTYPE html>\n",
       "<html lang=\"en\">\n",
       "    <head>\n",
       "        <title>displaCy</title>\n",
       "    </head>\n",
       "\n",
       "    <body style=\"font-size: 16px; font-family: -apple-system, BlinkMacSystemFont, 'Segoe UI', Helvetica, Arial, sans-serif, 'Apple Color Emoji', 'Segoe UI Emoji', 'Segoe UI Symbol'; padding: 4rem 2rem; direction: ltr\">\n",
       "<figure style=\"margin-bottom: 6rem\">\n",
       "<div class=\"entities\" style=\"line-height: 2.5; direction: ltr\">According to a media report, \n",
       "<mark class=\"entity\" style=\"background: #feca74; padding: 0.45em 0.6em; margin: 0 0.25em; line-height: 1; border-radius: 0.35em;\">\n",
       "    Mumbai\n",
       "    <span style=\"font-size: 0.8em; font-weight: bold; line-height: 1; border-radius: 0.35em; text-transform: uppercase; vertical-align: middle; margin-left: 0.5rem\">GPE</span>\n",
       "</mark>\n",
       " has the highest density of cars in \n",
       "<mark class=\"entity\" style=\"background: #feca74; padding: 0.45em 0.6em; margin: 0 0.25em; line-height: 1; border-radius: 0.35em;\">\n",
       "    India\n",
       "    <span style=\"font-size: 0.8em; font-weight: bold; line-height: 1; border-radius: 0.35em; text-transform: uppercase; vertical-align: middle; margin-left: 0.5rem\">GPE</span>\n",
       "</mark>\n",
       ". Pune is in \n",
       "<mark class=\"entity\" style=\"background: #e4e7d2; padding: 0.45em 0.6em; margin: 0 0.25em; line-height: 1; border-radius: 0.35em;\">\n",
       "    second\n",
       "    <span style=\"font-size: 0.8em; font-weight: bold; line-height: 1; border-radius: 0.35em; text-transform: uppercase; vertical-align: middle; margin-left: 0.5rem\">ORDINAL</span>\n",
       "</mark>\n",
       " place. </br>         The density of private cars in \n",
       "<mark class=\"entity\" style=\"background: #feca74; padding: 0.45em 0.6em; margin: 0 0.25em; line-height: 1; border-radius: 0.35em;\">\n",
       "    Mumbai\n",
       "    <span style=\"font-size: 0.8em; font-weight: bold; line-height: 1; border-radius: 0.35em; text-transform: uppercase; vertical-align: middle; margin-left: 0.5rem\">GPE</span>\n",
       "</mark>\n",
       " has gone up by \n",
       "<mark class=\"entity\" style=\"background: #e4e7d2; padding: 0.45em 0.6em; margin: 0 0.25em; line-height: 1; border-radius: 0.35em;\">\n",
       "    18%\n",
       "    <span style=\"font-size: 0.8em; font-weight: bold; line-height: 1; border-radius: 0.35em; text-transform: uppercase; vertical-align: middle; margin-left: 0.5rem\">PERCENT</span>\n",
       "</mark>\n",
       " in \n",
       "<mark class=\"entity\" style=\"background: #bfe1d9; padding: 0.45em 0.6em; margin: 0 0.25em; line-height: 1; border-radius: 0.35em;\">\n",
       "    2 years\n",
       "    <span style=\"font-size: 0.8em; font-weight: bold; line-height: 1; border-radius: 0.35em; text-transform: uppercase; vertical-align: middle; margin-left: 0.5rem\">DATE</span>\n",
       "</mark>\n",
       ". There are \n",
       "<mark class=\"entity\" style=\"background: #e4e7d2; padding: 0.45em 0.6em; margin: 0 0.25em; line-height: 1; border-radius: 0.35em;\">\n",
       "    510\n",
       "    <span style=\"font-size: 0.8em; font-weight: bold; line-height: 1; border-radius: 0.35em; text-transform: uppercase; vertical-align: middle; margin-left: 0.5rem\">CARDINAL</span>\n",
       "</mark>\n",
       " cars per km of road as opposed to </br>         \n",
       "<mark class=\"entity\" style=\"background: #e4e7d2; padding: 0.45em 0.6em; margin: 0 0.25em; line-height: 1; border-radius: 0.35em;\">\n",
       "    430\n",
       "    <span style=\"font-size: 0.8em; font-weight: bold; line-height: 1; border-radius: 0.35em; text-transform: uppercase; vertical-align: middle; margin-left: 0.5rem\">CARDINAL</span>\n",
       "</mark>\n",
       " cars per km in \n",
       "<mark class=\"entity\" style=\"background: #bfe1d9; padding: 0.45em 0.6em; margin: 0 0.25em; line-height: 1; border-radius: 0.35em;\">\n",
       "    2016\n",
       "    <span style=\"font-size: 0.8em; font-weight: bold; line-height: 1; border-radius: 0.35em; text-transform: uppercase; vertical-align: middle; margin-left: 0.5rem\">DATE</span>\n",
       "</mark>\n",
       ". This is \n",
       "<mark class=\"entity\" style=\"background: #e4e7d2; padding: 0.45em 0.6em; margin: 0 0.25em; line-height: 1; border-radius: 0.35em;\">\n",
       "    almost five\n",
       "    <span style=\"font-size: 0.8em; font-weight: bold; line-height: 1; border-radius: 0.35em; text-transform: uppercase; vertical-align: middle; margin-left: 0.5rem\">CARDINAL</span>\n",
       "</mark>\n",
       " times that of \n",
       "<mark class=\"entity\" style=\"background: #feca74; padding: 0.45em 0.6em; margin: 0 0.25em; line-height: 1; border-radius: 0.35em;\">\n",
       "    Delhi\n",
       "    <span style=\"font-size: 0.8em; font-weight: bold; line-height: 1; border-radius: 0.35em; text-transform: uppercase; vertical-align: middle; margin-left: 0.5rem\">GPE</span>\n",
       "</mark>\n",
       " (\n",
       "<mark class=\"entity\" style=\"background: #e4e7d2; padding: 0.45em 0.6em; margin: 0 0.25em; line-height: 1; border-radius: 0.35em;\">\n",
       "    108\n",
       "    <span style=\"font-size: 0.8em; font-weight: bold; line-height: 1; border-radius: 0.35em; text-transform: uppercase; vertical-align: middle; margin-left: 0.5rem\">CARDINAL</span>\n",
       "</mark>\n",
       " cars per km). Despite having fewer cars than </br>         \n",
       "<mark class=\"entity\" style=\"background: #feca74; padding: 0.45em 0.6em; margin: 0 0.25em; line-height: 1; border-radius: 0.35em;\">\n",
       "    Delhi\n",
       "    <span style=\"font-size: 0.8em; font-weight: bold; line-height: 1; border-radius: 0.35em; text-transform: uppercase; vertical-align: middle; margin-left: 0.5rem\">GPE</span>\n",
       "</mark>\n",
       ", \n",
       "<mark class=\"entity\" style=\"background: #feca74; padding: 0.45em 0.6em; margin: 0 0.25em; line-height: 1; border-radius: 0.35em;\">\n",
       "    Mumbai\n",
       "    <span style=\"font-size: 0.8em; font-weight: bold; line-height: 1; border-radius: 0.35em; text-transform: uppercase; vertical-align: middle; margin-left: 0.5rem\">GPE</span>\n",
       "</mark>\n",
       " is more congested due to low road space. \n",
       "<mark class=\"entity\" style=\"background: #feca74; padding: 0.45em 0.6em; margin: 0 0.25em; line-height: 1; border-radius: 0.35em;\">\n",
       "    Mumbai\n",
       "    <span style=\"font-size: 0.8em; font-weight: bold; line-height: 1; border-radius: 0.35em; text-transform: uppercase; vertical-align: middle; margin-left: 0.5rem\">GPE</span>\n",
       "</mark>\n",
       " has \n",
       "<mark class=\"entity\" style=\"background: #e4e7d2; padding: 0.45em 0.6em; margin: 0 0.25em; line-height: 1; border-radius: 0.35em;\">\n",
       "    2,000 km\n",
       "    <span style=\"font-size: 0.8em; font-weight: bold; line-height: 1; border-radius: 0.35em; text-transform: uppercase; vertical-align: middle; margin-left: 0.5rem\">QUANTITY</span>\n",
       "</mark>\n",
       " of roads compared to the national capital, </br>         which has \n",
       "<mark class=\"entity\" style=\"background: #e4e7d2; padding: 0.45em 0.6em; margin: 0 0.25em; line-height: 1; border-radius: 0.35em;\">\n",
       "    28,000 km\n",
       "    <span style=\"font-size: 0.8em; font-weight: bold; line-height: 1; border-radius: 0.35em; text-transform: uppercase; vertical-align: middle; margin-left: 0.5rem\">QUANTITY</span>\n",
       "</mark>\n",
       " of roadways. There are \n",
       "<mark class=\"entity\" style=\"background: #e4e7d2; padding: 0.45em 0.6em; margin: 0 0.25em; line-height: 1; border-radius: 0.35em;\">\n",
       "    10.2\n",
       "    <span style=\"font-size: 0.8em; font-weight: bold; line-height: 1; border-radius: 0.35em; text-transform: uppercase; vertical-align: middle; margin-left: 0.5rem\">CARDINAL</span>\n",
       "</mark>\n",
       " lakh private cars in \n",
       "<mark class=\"entity\" style=\"background: #feca74; padding: 0.45em 0.6em; margin: 0 0.25em; line-height: 1; border-radius: 0.35em;\">\n",
       "    Mumbai\n",
       "    <span style=\"font-size: 0.8em; font-weight: bold; line-height: 1; border-radius: 0.35em; text-transform: uppercase; vertical-align: middle; margin-left: 0.5rem\">GPE</span>\n",
       "</mark>\n",
       ". That is \n",
       "<mark class=\"entity\" style=\"background: #e4e7d2; padding: 0.45em 0.6em; margin: 0 0.25em; line-height: 1; border-radius: 0.35em;\">\n",
       "    28%\n",
       "    <span style=\"font-size: 0.8em; font-weight: bold; line-height: 1; border-radius: 0.35em; text-transform: uppercase; vertical-align: middle; margin-left: 0.5rem\">PERCENT</span>\n",
       "</mark>\n",
       " of the total number of </br>         vehicles in the city, which stands at \n",
       "<mark class=\"entity\" style=\"background: #e4e7d2; padding: 0.45em 0.6em; margin: 0 0.25em; line-height: 1; border-radius: 0.35em;\">\n",
       "    36\n",
       "    <span style=\"font-size: 0.8em; font-weight: bold; line-height: 1; border-radius: 0.35em; text-transform: uppercase; vertical-align: middle; margin-left: 0.5rem\">CARDINAL</span>\n",
       "</mark>\n",
       " lakh. According to \n",
       "<mark class=\"entity\" style=\"background: #7aecec; padding: 0.45em 0.6em; margin: 0 0.25em; line-height: 1; border-radius: 0.35em;\">\n",
       "    RTO\n",
       "    <span style=\"font-size: 0.8em; font-weight: bold; line-height: 1; border-radius: 0.35em; text-transform: uppercase; vertical-align: middle; margin-left: 0.5rem\">ORG</span>\n",
       "</mark>\n",
       " officials, the western suburbs have the highest number </br>         of registered cars (\n",
       "<mark class=\"entity\" style=\"background: #e4e7d2; padding: 0.45em 0.6em; margin: 0 0.25em; line-height: 1; border-radius: 0.35em;\">\n",
       "    5\n",
       "    <span style=\"font-size: 0.8em; font-weight: bold; line-height: 1; border-radius: 0.35em; text-transform: uppercase; vertical-align: middle; margin-left: 0.5rem\">CARDINAL</span>\n",
       "</mark>\n",
       " lakh). There are \n",
       "<mark class=\"entity\" style=\"background: #e4e7d2; padding: 0.45em 0.6em; margin: 0 0.25em; line-height: 1; border-radius: 0.35em;\">\n",
       "    3.3\n",
       "    <span style=\"font-size: 0.8em; font-weight: bold; line-height: 1; border-radius: 0.35em; text-transform: uppercase; vertical-align: middle; margin-left: 0.5rem\">CARDINAL</span>\n",
       "</mark>\n",
       " lakh private cars in the island city and \n",
       "<mark class=\"entity\" style=\"background: #e4e7d2; padding: 0.45em 0.6em; margin: 0 0.25em; line-height: 1; border-radius: 0.35em;\">\n",
       "    1.7\n",
       "    <span style=\"font-size: 0.8em; font-weight: bold; line-height: 1; border-radius: 0.35em; text-transform: uppercase; vertical-align: middle; margin-left: 0.5rem\">CARDINAL</span>\n",
       "</mark>\n",
       " lakh in the eastern suburbs.</br>         \n",
       "<mark class=\"entity\" style=\"background: #feca74; padding: 0.45em 0.6em; margin: 0 0.25em; line-height: 1; border-radius: 0.35em;\">\n",
       "    Pune\n",
       "    <span style=\"font-size: 0.8em; font-weight: bold; line-height: 1; border-radius: 0.35em; text-transform: uppercase; vertical-align: middle; margin-left: 0.5rem\">GPE</span>\n",
       "</mark>\n",
       " has \n",
       "<mark class=\"entity\" style=\"background: #e4e7d2; padding: 0.45em 0.6em; margin: 0 0.25em; line-height: 1; border-radius: 0.35em;\">\n",
       "    359\n",
       "    <span style=\"font-size: 0.8em; font-weight: bold; line-height: 1; border-radius: 0.35em; text-transform: uppercase; vertical-align: middle; margin-left: 0.5rem\">CARDINAL</span>\n",
       "</mark>\n",
       " cars per km and \n",
       "<mark class=\"entity\" style=\"background: #aa9cfc; padding: 0.45em 0.6em; margin: 0 0.25em; line-height: 1; border-radius: 0.35em;\">\n",
       "    Kolkata\n",
       "    <span style=\"font-size: 0.8em; font-weight: bold; line-height: 1; border-radius: 0.35em; text-transform: uppercase; vertical-align: middle; margin-left: 0.5rem\">PERSON</span>\n",
       "</mark>\n",
       " is the \n",
       "<mark class=\"entity\" style=\"background: #e4e7d2; padding: 0.45em 0.6em; margin: 0 0.25em; line-height: 1; border-radius: 0.35em;\">\n",
       "    third\n",
       "    <span style=\"font-size: 0.8em; font-weight: bold; line-height: 1; border-radius: 0.35em; text-transform: uppercase; vertical-align: middle; margin-left: 0.5rem\">ORDINAL</span>\n",
       "</mark>\n",
       " most congested city with \n",
       "<mark class=\"entity\" style=\"background: #e4e7d2; padding: 0.45em 0.6em; margin: 0 0.25em; line-height: 1; border-radius: 0.35em;\">\n",
       "    319\n",
       "    <span style=\"font-size: 0.8em; font-weight: bold; line-height: 1; border-radius: 0.35em; text-transform: uppercase; vertical-align: middle; margin-left: 0.5rem\">CARDINAL</span>\n",
       "</mark>\n",
       " cars per km. Chennai comes in \n",
       "<mark class=\"entity\" style=\"background: #e4e7d2; padding: 0.45em 0.6em; margin: 0 0.25em; line-height: 1; border-radius: 0.35em;\">\n",
       "    fourth\n",
       "    <span style=\"font-size: 0.8em; font-weight: bold; line-height: 1; border-radius: 0.35em; text-transform: uppercase; vertical-align: middle; margin-left: 0.5rem\">ORDINAL</span>\n",
       "</mark>\n",
       " </br>         with \n",
       "<mark class=\"entity\" style=\"background: #e4e7d2; padding: 0.45em 0.6em; margin: 0 0.25em; line-height: 1; border-radius: 0.35em;\">\n",
       "    297\n",
       "    <span style=\"font-size: 0.8em; font-weight: bold; line-height: 1; border-radius: 0.35em; text-transform: uppercase; vertical-align: middle; margin-left: 0.5rem\">CARDINAL</span>\n",
       "</mark>\n",
       " cars per km followed by \n",
       "<mark class=\"entity\" style=\"background: #feca74; padding: 0.45em 0.6em; margin: 0 0.25em; line-height: 1; border-radius: 0.35em;\">\n",
       "    Bangalore\n",
       "    <span style=\"font-size: 0.8em; font-weight: bold; line-height: 1; border-radius: 0.35em; text-transform: uppercase; vertical-align: middle; margin-left: 0.5rem\">GPE</span>\n",
       "</mark>\n",
       " with \n",
       "<mark class=\"entity\" style=\"background: #e4e7d2; padding: 0.45em 0.6em; margin: 0 0.25em; line-height: 1; border-radius: 0.35em;\">\n",
       "    149\n",
       "    <span style=\"font-size: 0.8em; font-weight: bold; line-height: 1; border-radius: 0.35em; text-transform: uppercase; vertical-align: middle; margin-left: 0.5rem\">CARDINAL</span>\n",
       "</mark>\n",
       " cars per km.</div>\n",
       "</figure>\n",
       "</body>\n",
       "</html></span>"
      ],
      "text/plain": [
       "<IPython.core.display.HTML object>"
      ]
     },
     "metadata": {},
     "output_type": "display_data"
    },
    {
     "name": "stdout",
     "output_type": "stream",
     "text": [
      "\n",
      "Using the 'ent' visualizer\n",
      "Serving on http://0.0.0.0:5000 ...\n",
      "\n",
      "Shutting down server on port 5000.\n"
     ]
    }
   ],
   "source": [
    "displacy.serve(doc, style=\"ent\")"
   ]
  },
  {
   "cell_type": "markdown",
   "metadata": {},
   "source": [
    "## Using geotext"
   ]
  },
  {
   "cell_type": "code",
   "execution_count": 13,
   "metadata": {},
   "outputs": [],
   "source": [
    "from geotext import GeoText\n",
    "places = GeoText(\"\"\"According to a media report, Mumbai has the highest density of cars in India. Pune is in second place. \n",
    "         The density of private cars in Mumbai has gone up by 18% in 2 years. There are 510 cars per km of road as opposed to \n",
    "         430 cars per km in 2016. This is almost five times that of Delhi (108 cars per km). Despite having fewer cars than \n",
    "         Delhi, Mumbai is more congested due to low road space. Mumbai has 2,000 km of roads compared to the national capital, \n",
    "         which has 28,000 km of roadways. There are 10.2 lakh private cars in Mumbai. That is 28% of the total number of \n",
    "         vehicles in the city, which stands at 36 lakh. According to RTO officials, the western suburbs have the highest number \n",
    "         of registered cars (5 lakh). There are 3.3 lakh private cars in the island city and 1.7 lakh in the eastern suburbs.\n",
    "         Pune has 359 cars per km and Kolkata is the third most congested city with 319 cars per km. Chennai comes in fourth \n",
    "         with 297 cars per km followed by Bangalore with 149 cars per km.\"\"\")\n",
    "cities = places.cities\n",
    "countries = places.countries"
   ]
  },
  {
   "cell_type": "code",
   "execution_count": 14,
   "metadata": {},
   "outputs": [
    {
     "data": {
      "text/plain": [
       "(['Mumbai',\n",
       "  'Pune',\n",
       "  'Mumbai',\n",
       "  'Delhi',\n",
       "  'Delhi',\n",
       "  'Mumbai',\n",
       "  'Mumbai',\n",
       "  'Mumbai',\n",
       "  'Pune',\n",
       "  'Kolkata',\n",
       "  'Chennai',\n",
       "  'Bangalore'],\n",
       " ['India'])"
      ]
     },
     "execution_count": 14,
     "metadata": {},
     "output_type": "execute_result"
    }
   ],
   "source": [
    "cities, countries"
   ]
  },
  {
   "cell_type": "markdown",
   "metadata": {},
   "source": [
    "#### Removing duplicate words and getting final lists of location"
   ]
  },
  {
   "cell_type": "code",
   "execution_count": 15,
   "metadata": {},
   "outputs": [
    {
     "name": "stdout",
     "output_type": "stream",
     "text": [
      "['India']['Mumbai', 'Pune', 'Delhi', 'Kolkata', 'Chennai', 'Bangalore']\n"
     ]
    }
   ],
   "source": [
    "loc = [] \n",
    "[loc.append(x) for x in cities if x not in loc] \n",
    "print (str(countries) + str(loc))"
   ]
  },
  {
   "cell_type": "code",
   "execution_count": null,
   "metadata": {},
   "outputs": [],
   "source": []
  }
 ],
 "metadata": {
  "kernelspec": {
   "display_name": "Python 3",
   "language": "python",
   "name": "python3"
  },
  "language_info": {
   "codemirror_mode": {
    "name": "ipython",
    "version": 3
   },
   "file_extension": ".py",
   "mimetype": "text/x-python",
   "name": "python",
   "nbconvert_exporter": "python",
   "pygments_lexer": "ipython3",
   "version": "3.7.4"
  }
 },
 "nbformat": 4,
 "nbformat_minor": 2
}
