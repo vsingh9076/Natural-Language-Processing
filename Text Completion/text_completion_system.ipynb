{
  "nbformat": 4,
  "nbformat_minor": 0,
  "metadata": {
    "colab": {
      "provenance": [],
      "authorship_tag": "ABX9TyOtYDErAGp7oJ8qOjllH7ab",
      "include_colab_link": true
    },
    "kernelspec": {
      "name": "python3",
      "display_name": "Python 3"
    },
    "language_info": {
      "name": "python"
    }
  },
  "cells": [
    {
      "cell_type": "markdown",
      "metadata": {
        "id": "view-in-github",
        "colab_type": "text"
      },
      "source": [
        "<a href=\"https://colab.research.google.com/github/vsingh9076/Natural_Language_Processing/blob/master/Text%20Completion/text_completion_system.ipynb\" target=\"_parent\"><img src=\"https://colab.research.google.com/assets/colab-badge.svg\" alt=\"Open In Colab\"/></a>"
      ]
    },
    {
      "cell_type": "code",
      "execution_count": 4,
      "metadata": {
        "colab": {
          "base_uri": "https://localhost:8080/"
        },
        "id": "_RCO416FHszV",
        "outputId": "f5a5e0f3-7b0b-4adf-ec73-610b12a74277"
      },
      "outputs": [
        {
          "output_type": "stream",
          "name": "stdout",
          "text": [
            "['app', 'apple', 'application']\n"
          ]
        }
      ],
      "source": [
        "# Based on Keyword matching\n",
        "\n",
        "class TrieNode:\n",
        "    def __init__(self):\n",
        "        self.children = {}\n",
        "        self.is_end_of_word = False\n",
        "\n",
        "class AutocompleteSystem:\n",
        "    def __init__(self):\n",
        "        self.root = TrieNode()\n",
        "\n",
        "    def insert(self, word):\n",
        "        node = self.root\n",
        "        for char in word:\n",
        "            if char not in node.children:\n",
        "                node.children[char] = TrieNode()\n",
        "            node = node.children[char]\n",
        "        node.is_end_of_word = True\n",
        "\n",
        "    def find_words_with_prefix(self, prefix):\n",
        "        node = self.root\n",
        "        for char in prefix:\n",
        "            if char not in node.children:\n",
        "                return []\n",
        "            node = node.children[char]\n",
        "        return self._find_words_from_node(node, prefix)\n",
        "\n",
        "    def _find_words_from_node(self, node, prefix):\n",
        "        words = []\n",
        "        if node.is_end_of_word:\n",
        "            words.append(prefix)\n",
        "        for char, child_node in node.children.items():\n",
        "            words.extend(self._find_words_from_node(child_node, prefix + char))\n",
        "        return words\n",
        "\n",
        "# Example usage\n",
        "autocomplete = AutocompleteSystem()\n",
        "words = [\"apple\", \"app\", \"application\", \"banana\", \"bat\"]\n",
        "for word in words:\n",
        "    autocomplete.insert(word)\n",
        "\n",
        "prefix = \"app\"\n",
        "completions = autocomplete.find_words_with_prefix(prefix)\n",
        "print(completions)  # Output: ['app', 'apple', 'application']\n"
      ]
    },
    {
      "cell_type": "code",
      "source": [
        "# Using n-grams probabilistic model\n",
        "\n",
        "import nltk\n",
        "from nltk import ngrams\n",
        "from collections import Counter\n",
        "\n",
        "# Sample text data\n",
        "text = \"This is a sample text for building an n-gram model. This is just an example.\"\n",
        "\n",
        "# Tokenize the text\n",
        "tokens = nltk.word_tokenize(text)\n",
        "\n",
        "# Create n-grams\n",
        "def generate_ngrams(token_list, n):\n",
        "    return list(ngrams(token_list, n))\n",
        "\n",
        "n = 3  # Example: Trigrams\n",
        "ngram_list = generate_ngrams(tokens, n)\n",
        "\n",
        "# Count the frequency of n-grams\n",
        "ngram_counts = Counter(ngram_list)\n",
        "\n",
        "# Autocompletion function\n",
        "def predict_completions(input_sequence, n, ngram_counts):\n",
        "    input_ngram = tuple(input_sequence.split()[-(n-1):])\n",
        "    completions = [ngram for ngram, count in ngram_counts.items() if ngram[:n-1] == input_ngram]\n",
        "    return completions\n",
        "\n",
        "# Example usage\n",
        "input_sequence = \"This is\"\n",
        "completions = predict_completions(input_sequence, n, ngram_counts)\n",
        "print(completions)"
      ],
      "metadata": {
        "colab": {
          "base_uri": "https://localhost:8080/"
        },
        "id": "tnpPNbOPJD_z",
        "outputId": "716a2464-ca2a-414d-da7c-8ddb442a5ff0"
      },
      "execution_count": 15,
      "outputs": [
        {
          "output_type": "stream",
          "name": "stdout",
          "text": [
            "[('This', 'is', 'a'), ('This', 'is', 'just')]\n"
          ]
        }
      ]
    },
    {
      "cell_type": "code",
      "source": [],
      "metadata": {
        "id": "jBOfEZ3eJFLH"
      },
      "execution_count": null,
      "outputs": []
    }
  ]
}